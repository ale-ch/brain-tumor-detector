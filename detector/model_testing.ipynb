{
 "cells": [
  {
   "cell_type": "markdown",
   "id": "1eccde79",
   "metadata": {},
   "source": [
    "# Test the model on unseen data"
   ]
  },
  {
   "cell_type": "code",
   "execution_count": 1,
   "id": "bb2da212",
   "metadata": {},
   "outputs": [],
   "source": [
    "import tensorflow as tf\n",
    "import numpy as np\n",
    "import os\n",
    "import pathlib"
   ]
  },
  {
   "cell_type": "code",
   "execution_count": 2,
   "id": "438fe461",
   "metadata": {},
   "outputs": [],
   "source": [
    "model = tf.keras.models.load_model(os.getcwd() + \"\\\\model\")"
   ]
  },
  {
   "cell_type": "code",
   "execution_count": 3,
   "id": "36223f1b",
   "metadata": {},
   "outputs": [],
   "source": [
    "class_names = ['brain_tumor', 'healthy']"
   ]
  },
  {
   "cell_type": "code",
   "execution_count": 8,
   "id": "41f4275c",
   "metadata": {},
   "outputs": [],
   "source": [
    "def prediction(path, model, class_names):\n",
    "    img = tf.keras.utils.load_img(path, target_size=(180,180))\n",
    "    img_array = tf.keras.utils.img_to_array(img)\n",
    "    img_array = tf.expand_dims(img_array, 0)\n",
    "    pred = model.predict(img_array)\n",
    "    score = tf.nn.sigmoid(pred[0])\n",
    "    print(f\"This image belongs to {class_names[np.argmax(score)]} with {100 * np.max(score):.2f} percent confidence.\")"
   ]
  },
  {
   "cell_type": "code",
   "execution_count": 5,
   "id": "f0c5fbf5",
   "metadata": {},
   "outputs": [
    {
     "name": "stdout",
     "output_type": "stream",
     "text": [
      "1\n"
     ]
    }
   ],
   "source": [
    "new_data_path = os.getcwd() + \"\\\\data\" \"\\\\new_data\\\\\"\n",
    "new_data_dir = pathlib.Path(new_data_path)\n",
    "image_count = len(list(new_data_dir.glob('*.png' or '*.jpg')))\n",
    "print(image_count)"
   ]
  },
  {
   "cell_type": "markdown",
   "id": "93eb87c5",
   "metadata": {},
   "source": [
    "### Brain with tumor test"
   ]
  },
  {
   "cell_type": "code",
   "execution_count": 10,
   "id": "5b152d3d",
   "metadata": {},
   "outputs": [
    {
     "name": "stdout",
     "output_type": "stream",
     "text": [
      "This image belongs to brain_tumor with 100.00 percent confidence.\n"
     ]
    }
   ],
   "source": [
    "prediction(path=os.path.join(os.getcwd(), \"data\", \"new_data\", \"tumor1.png\"), model=model, class_names=class_names)"
   ]
  },
  {
   "cell_type": "markdown",
   "id": "f237b4ab",
   "metadata": {},
   "source": [
    "### Healthy brain test"
   ]
  },
  {
   "cell_type": "code",
   "execution_count": 9,
   "id": "023da2df",
   "metadata": {},
   "outputs": [
    {
     "name": "stdout",
     "output_type": "stream",
     "text": [
      "This image belongs to healthy with 95.62 percent confidence.\n"
     ]
    }
   ],
   "source": [
    "prediction(path=os.getcwd() + \"\\\\data\" + \"\\\\new_data\" + \"\\\\healthy1.jpg\", model=model, class_names=class_names)"
   ]
  }
 ],
 "metadata": {
  "kernelspec": {
   "display_name": "Python 3.10.4 ('venv': venv)",
   "language": "python",
   "name": "python3"
  },
  "language_info": {
   "codemirror_mode": {
    "name": "ipython",
    "version": 3
   },
   "file_extension": ".py",
   "mimetype": "text/x-python",
   "name": "python",
   "nbconvert_exporter": "python",
   "pygments_lexer": "ipython3",
   "version": "3.10.4"
  },
  "vscode": {
   "interpreter": {
    "hash": "6eaaf133d9f42e52f2fb8d5ec21f569433a03a2887bd832e294dde04aef6f7f3"
   }
  }
 },
 "nbformat": 4,
 "nbformat_minor": 5
}
